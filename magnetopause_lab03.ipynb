{
 "cells": [
  {
   "cell_type": "markdown",
   "metadata": {},
   "source": [
    "# Magnetopause Lab 03 "
   ]
  },
  {
   "cell_type": "code",
   "execution_count": 1,
   "metadata": {},
   "outputs": [],
   "source": [
    "import pandas as pd\n",
    "import matplotlib.pyplot as plt\n",
    "import numpy as np\n",
    "import math\n"
   ]
  },
  {
   "cell_type": "markdown",
   "metadata": {},
   "source": [
    "## Importing Magnetic Field and Solar Wind Data from CDAWEB"
   ]
  },
  {
   "cell_type": "code",
   "execution_count": 2,
   "metadata": {},
   "outputs": [
    {
     "data": {
      "text/html": [
       "<div>\n",
       "<style scoped>\n",
       "    .dataframe tbody tr th:only-of-type {\n",
       "        vertical-align: middle;\n",
       "    }\n",
       "\n",
       "    .dataframe tbody tr th {\n",
       "        vertical-align: top;\n",
       "    }\n",
       "\n",
       "    .dataframe thead th {\n",
       "        text-align: right;\n",
       "    }\n",
       "</style>\n",
       "<table border=\"1\" class=\"dataframe\">\n",
       "  <thead>\n",
       "    <tr style=\"text-align: right;\">\n",
       "      <th></th>\n",
       "      <th>UT</th>\n",
       "      <th>B_TOTAL</th>\n",
       "      <th>BX</th>\n",
       "      <th>BY</th>\n",
       "      <th>BZ</th>\n",
       "    </tr>\n",
       "  </thead>\n",
       "  <tbody>\n",
       "    <tr>\n",
       "      <td>0</td>\n",
       "      <td>2009-09-15T14:47:23.478Z</td>\n",
       "      <td>26.7384</td>\n",
       "      <td>0.760739</td>\n",
       "      <td>-4.87570</td>\n",
       "      <td>-26.2791</td>\n",
       "    </tr>\n",
       "    <tr>\n",
       "      <td>1</td>\n",
       "      <td>2009-09-15T14:47:26.610Z</td>\n",
       "      <td>24.3595</td>\n",
       "      <td>-1.035510</td>\n",
       "      <td>-5.46641</td>\n",
       "      <td>-23.7156</td>\n",
       "    </tr>\n",
       "    <tr>\n",
       "      <td>2</td>\n",
       "      <td>2009-09-15T14:47:29.742Z</td>\n",
       "      <td>25.7316</td>\n",
       "      <td>-0.433656</td>\n",
       "      <td>-4.56628</td>\n",
       "      <td>-25.3195</td>\n",
       "    </tr>\n",
       "    <tr>\n",
       "      <td>3</td>\n",
       "      <td>2009-09-15T14:47:32.874Z</td>\n",
       "      <td>26.5136</td>\n",
       "      <td>-0.857697</td>\n",
       "      <td>-5.20363</td>\n",
       "      <td>-25.9838</td>\n",
       "    </tr>\n",
       "    <tr>\n",
       "      <td>4</td>\n",
       "      <td>2009-09-15T14:47:36.006Z</td>\n",
       "      <td>24.3876</td>\n",
       "      <td>0.942579</td>\n",
       "      <td>-5.32786</td>\n",
       "      <td>-23.7798</td>\n",
       "    </tr>\n",
       "    <tr>\n",
       "      <td>...</td>\n",
       "      <td>...</td>\n",
       "      <td>...</td>\n",
       "      <td>...</td>\n",
       "      <td>...</td>\n",
       "      <td>...</td>\n",
       "    </tr>\n",
       "    <tr>\n",
       "      <td>2537</td>\n",
       "      <td>2009-09-15T16:59:49.586Z</td>\n",
       "      <td>18.2417</td>\n",
       "      <td>-2.664060</td>\n",
       "      <td>1.74770</td>\n",
       "      <td>17.9613</td>\n",
       "    </tr>\n",
       "    <tr>\n",
       "      <td>2538</td>\n",
       "      <td>2009-09-15T16:59:52.718Z</td>\n",
       "      <td>19.8812</td>\n",
       "      <td>-2.844870</td>\n",
       "      <td>-0.56367</td>\n",
       "      <td>19.6686</td>\n",
       "    </tr>\n",
       "    <tr>\n",
       "      <td>2539</td>\n",
       "      <td>2009-09-15T16:59:55.850Z</td>\n",
       "      <td>24.7786</td>\n",
       "      <td>-3.375480</td>\n",
       "      <td>-7.11792</td>\n",
       "      <td>23.4929</td>\n",
       "    </tr>\n",
       "    <tr>\n",
       "      <td>2540</td>\n",
       "      <td>2009-09-15T16:59:58.982Z</td>\n",
       "      <td>26.5696</td>\n",
       "      <td>-3.142340</td>\n",
       "      <td>-8.14023</td>\n",
       "      <td>25.0959</td>\n",
       "    </tr>\n",
       "    <tr>\n",
       "      <td>2541</td>\n",
       "      <td>2009-09-15T17:00:02.114Z</td>\n",
       "      <td>19.7467</td>\n",
       "      <td>-2.430860</td>\n",
       "      <td>-3.63569</td>\n",
       "      <td>19.2563</td>\n",
       "    </tr>\n",
       "  </tbody>\n",
       "</table>\n",
       "<p>2542 rows × 5 columns</p>\n",
       "</div>"
      ],
      "text/plain": [
       "                            UT  B_TOTAL        BX       BY       BZ\n",
       "0     2009-09-15T14:47:23.478Z  26.7384  0.760739 -4.87570 -26.2791\n",
       "1     2009-09-15T14:47:26.610Z  24.3595 -1.035510 -5.46641 -23.7156\n",
       "2     2009-09-15T14:47:29.742Z  25.7316 -0.433656 -4.56628 -25.3195\n",
       "3     2009-09-15T14:47:32.874Z  26.5136 -0.857697 -5.20363 -25.9838\n",
       "4     2009-09-15T14:47:36.006Z  24.3876  0.942579 -5.32786 -23.7798\n",
       "...                        ...      ...       ...      ...      ...\n",
       "2537  2009-09-15T16:59:49.586Z  18.2417 -2.664060  1.74770  17.9613\n",
       "2538  2009-09-15T16:59:52.718Z  19.8812 -2.844870 -0.56367  19.6686\n",
       "2539  2009-09-15T16:59:55.850Z  24.7786 -3.375480 -7.11792  23.4929\n",
       "2540  2009-09-15T16:59:58.982Z  26.5696 -3.142340 -8.14023  25.0959\n",
       "2541  2009-09-15T17:00:02.114Z  19.7467 -2.430860 -3.63569  19.2563\n",
       "\n",
       "[2542 rows x 5 columns]"
      ]
     },
     "execution_count": 2,
     "metadata": {},
     "output_type": "execute_result"
    }
   ],
   "source": [
    "fgm = pd.read_csv('fgmdata_ms.csv') # Magnetic field data in nT (MAGNETOSHEATH)\n",
    "fgm"
   ]
  },
  {
   "cell_type": "code",
   "execution_count": 3,
   "metadata": {
    "scrolled": false
   },
   "outputs": [
    {
     "data": {
      "text/html": [
       "<div>\n",
       "<style scoped>\n",
       "    .dataframe tbody tr th:only-of-type {\n",
       "        vertical-align: middle;\n",
       "    }\n",
       "\n",
       "    .dataframe tbody tr th {\n",
       "        vertical-align: top;\n",
       "    }\n",
       "\n",
       "    .dataframe thead th {\n",
       "        text-align: right;\n",
       "    }\n",
       "</style>\n",
       "<table border=\"1\" class=\"dataframe\">\n",
       "  <thead>\n",
       "    <tr style=\"text-align: right;\">\n",
       "      <th></th>\n",
       "      <th>UT</th>\n",
       "      <th>N_ION</th>\n",
       "      <th>VX_ION</th>\n",
       "      <th>VY_ION</th>\n",
       "      <th>VZ</th>\n",
       "      <th>TX_ION</th>\n",
       "      <th>TY_ION</th>\n",
       "      <th>TZ_ION</th>\n",
       "      <th>VT_ION</th>\n",
       "      <th>TT_ION</th>\n",
       "    </tr>\n",
       "  </thead>\n",
       "  <tbody>\n",
       "    <tr>\n",
       "      <td>0</td>\n",
       "      <td>2009-09-15T14:47:22.234Z</td>\n",
       "      <td>27.517014</td>\n",
       "      <td>-98.770652</td>\n",
       "      <td>-90.109350</td>\n",
       "      <td>27.391210</td>\n",
       "      <td>173.71701</td>\n",
       "      <td>169.76760</td>\n",
       "      <td>103.96400</td>\n",
       "      <td>136.475694</td>\n",
       "      <td>264.210429</td>\n",
       "    </tr>\n",
       "    <tr>\n",
       "      <td>1</td>\n",
       "      <td>2009-09-15T14:47:25.366Z</td>\n",
       "      <td>27.487779</td>\n",
       "      <td>-99.720304</td>\n",
       "      <td>-101.274200</td>\n",
       "      <td>27.419543</td>\n",
       "      <td>179.09412</td>\n",
       "      <td>190.90685</td>\n",
       "      <td>107.68784</td>\n",
       "      <td>144.749556</td>\n",
       "      <td>283.049112</td>\n",
       "    </tr>\n",
       "    <tr>\n",
       "      <td>2</td>\n",
       "      <td>2009-09-15T14:47:28.498Z</td>\n",
       "      <td>26.086347</td>\n",
       "      <td>-110.451060</td>\n",
       "      <td>-94.334115</td>\n",
       "      <td>27.070611</td>\n",
       "      <td>176.58680</td>\n",
       "      <td>189.45682</td>\n",
       "      <td>112.66143</td>\n",
       "      <td>147.753781</td>\n",
       "      <td>282.434740</td>\n",
       "    </tr>\n",
       "    <tr>\n",
       "      <td>3</td>\n",
       "      <td>2009-09-15T14:47:31.630Z</td>\n",
       "      <td>27.224940</td>\n",
       "      <td>-108.173690</td>\n",
       "      <td>-107.334730</td>\n",
       "      <td>26.909578</td>\n",
       "      <td>184.29183</td>\n",
       "      <td>179.85542</td>\n",
       "      <td>109.38000</td>\n",
       "      <td>154.746298</td>\n",
       "      <td>279.777474</td>\n",
       "    </tr>\n",
       "    <tr>\n",
       "      <td>4</td>\n",
       "      <td>2009-09-15T14:47:34.762Z</td>\n",
       "      <td>25.531556</td>\n",
       "      <td>-98.017662</td>\n",
       "      <td>-100.446720</td>\n",
       "      <td>32.137935</td>\n",
       "      <td>171.74919</td>\n",
       "      <td>177.82575</td>\n",
       "      <td>113.30784</td>\n",
       "      <td>143.978653</td>\n",
       "      <td>271.953026</td>\n",
       "    </tr>\n",
       "    <tr>\n",
       "      <td>...</td>\n",
       "      <td>...</td>\n",
       "      <td>...</td>\n",
       "      <td>...</td>\n",
       "      <td>...</td>\n",
       "      <td>...</td>\n",
       "      <td>...</td>\n",
       "      <td>...</td>\n",
       "      <td>...</td>\n",
       "      <td>...</td>\n",
       "      <td>...</td>\n",
       "    </tr>\n",
       "    <tr>\n",
       "      <td>2537</td>\n",
       "      <td>2009-09-15T16:59:48.341Z</td>\n",
       "      <td>24.174725</td>\n",
       "      <td>-98.741369</td>\n",
       "      <td>-68.332531</td>\n",
       "      <td>16.942242</td>\n",
       "      <td>258.34062</td>\n",
       "      <td>255.17619</td>\n",
       "      <td>162.93551</td>\n",
       "      <td>121.269255</td>\n",
       "      <td>397.998423</td>\n",
       "    </tr>\n",
       "    <tr>\n",
       "      <td>2538</td>\n",
       "      <td>2009-09-15T16:59:51.473Z</td>\n",
       "      <td>23.270142</td>\n",
       "      <td>-105.973660</td>\n",
       "      <td>-78.366579</td>\n",
       "      <td>24.148666</td>\n",
       "      <td>238.00799</td>\n",
       "      <td>245.51047</td>\n",
       "      <td>159.24519</td>\n",
       "      <td>133.995878</td>\n",
       "      <td>377.203161</td>\n",
       "    </tr>\n",
       "    <tr>\n",
       "      <td>2539</td>\n",
       "      <td>2009-09-15T16:59:54.606Z</td>\n",
       "      <td>22.423923</td>\n",
       "      <td>-119.850840</td>\n",
       "      <td>-98.517489</td>\n",
       "      <td>20.910502</td>\n",
       "      <td>215.83205</td>\n",
       "      <td>220.35216</td>\n",
       "      <td>155.73659</td>\n",
       "      <td>156.547656</td>\n",
       "      <td>345.532102</td>\n",
       "    </tr>\n",
       "    <tr>\n",
       "      <td>2540</td>\n",
       "      <td>2009-09-15T16:59:57.738Z</td>\n",
       "      <td>21.811134</td>\n",
       "      <td>-121.346010</td>\n",
       "      <td>-85.402316</td>\n",
       "      <td>18.811049</td>\n",
       "      <td>214.11392</td>\n",
       "      <td>218.23950</td>\n",
       "      <td>154.40810</td>\n",
       "      <td>149.573612</td>\n",
       "      <td>342.512936</td>\n",
       "    </tr>\n",
       "    <tr>\n",
       "      <td>2541</td>\n",
       "      <td>2009-09-15T17:00:00.870Z</td>\n",
       "      <td>22.307139</td>\n",
       "      <td>-114.818250</td>\n",
       "      <td>-78.913742</td>\n",
       "      <td>21.955722</td>\n",
       "      <td>242.36941</td>\n",
       "      <td>229.96162</td>\n",
       "      <td>153.88054</td>\n",
       "      <td>141.041352</td>\n",
       "      <td>367.837598</td>\n",
       "    </tr>\n",
       "  </tbody>\n",
       "</table>\n",
       "<p>2542 rows × 10 columns</p>\n",
       "</div>"
      ],
      "text/plain": [
       "                            UT      N_ION      VX_ION      VY_ION         VZ  \\\n",
       "0     2009-09-15T14:47:22.234Z  27.517014  -98.770652  -90.109350  27.391210   \n",
       "1     2009-09-15T14:47:25.366Z  27.487779  -99.720304 -101.274200  27.419543   \n",
       "2     2009-09-15T14:47:28.498Z  26.086347 -110.451060  -94.334115  27.070611   \n",
       "3     2009-09-15T14:47:31.630Z  27.224940 -108.173690 -107.334730  26.909578   \n",
       "4     2009-09-15T14:47:34.762Z  25.531556  -98.017662 -100.446720  32.137935   \n",
       "...                        ...        ...         ...         ...        ...   \n",
       "2537  2009-09-15T16:59:48.341Z  24.174725  -98.741369  -68.332531  16.942242   \n",
       "2538  2009-09-15T16:59:51.473Z  23.270142 -105.973660  -78.366579  24.148666   \n",
       "2539  2009-09-15T16:59:54.606Z  22.423923 -119.850840  -98.517489  20.910502   \n",
       "2540  2009-09-15T16:59:57.738Z  21.811134 -121.346010  -85.402316  18.811049   \n",
       "2541  2009-09-15T17:00:00.870Z  22.307139 -114.818250  -78.913742  21.955722   \n",
       "\n",
       "         TX_ION     TY_ION     TZ_ION      VT_ION      TT_ION  \n",
       "0     173.71701  169.76760  103.96400  136.475694  264.210429  \n",
       "1     179.09412  190.90685  107.68784  144.749556  283.049112  \n",
       "2     176.58680  189.45682  112.66143  147.753781  282.434740  \n",
       "3     184.29183  179.85542  109.38000  154.746298  279.777474  \n",
       "4     171.74919  177.82575  113.30784  143.978653  271.953026  \n",
       "...         ...        ...        ...         ...         ...  \n",
       "2537  258.34062  255.17619  162.93551  121.269255  397.998423  \n",
       "2538  238.00799  245.51047  159.24519  133.995878  377.203161  \n",
       "2539  215.83205  220.35216  155.73659  156.547656  345.532102  \n",
       "2540  214.11392  218.23950  154.40810  149.573612  342.512936  \n",
       "2541  242.36941  229.96162  153.88054  141.041352  367.837598  \n",
       "\n",
       "[2542 rows x 10 columns]"
      ]
     },
     "execution_count": 3,
     "metadata": {},
     "output_type": "execute_result"
    }
   ],
   "source": [
    "mom = pd.read_csv('momdata_ms.csv') # Solar wind data N in #/cm^3, V in km/sec, T in eV (MAGNETOSHEATH)\n",
    "mom"
   ]
  },
  {
   "cell_type": "markdown",
   "metadata": {},
   "source": [
    "## Converting V and N values to SI units"
   ]
  },
  {
   "cell_type": "code",
   "execution_count": 4,
   "metadata": {},
   "outputs": [],
   "source": [
    "mom['VT_MSEC'] = mom['VT_ION']*10**3 # V(km/sec) to V(m/sec)\n",
    "mom['N_M'] = mom['N_ION']*10**6 # N(#/cm^3) to N(#/m^3)"
   ]
  },
  {
   "cell_type": "code",
   "execution_count": 5,
   "metadata": {
    "scrolled": true
   },
   "outputs": [
    {
     "data": {
      "text/html": [
       "<div>\n",
       "<style scoped>\n",
       "    .dataframe tbody tr th:only-of-type {\n",
       "        vertical-align: middle;\n",
       "    }\n",
       "\n",
       "    .dataframe tbody tr th {\n",
       "        vertical-align: top;\n",
       "    }\n",
       "\n",
       "    .dataframe thead th {\n",
       "        text-align: right;\n",
       "    }\n",
       "</style>\n",
       "<table border=\"1\" class=\"dataframe\">\n",
       "  <thead>\n",
       "    <tr style=\"text-align: right;\">\n",
       "      <th></th>\n",
       "      <th>UT</th>\n",
       "      <th>N_ION</th>\n",
       "      <th>VX_ION</th>\n",
       "      <th>VY_ION</th>\n",
       "      <th>VZ</th>\n",
       "      <th>TX_ION</th>\n",
       "      <th>TY_ION</th>\n",
       "      <th>TZ_ION</th>\n",
       "      <th>VT_ION</th>\n",
       "      <th>TT_ION</th>\n",
       "      <th>VT_MSEC</th>\n",
       "      <th>N_M</th>\n",
       "    </tr>\n",
       "  </thead>\n",
       "  <tbody>\n",
       "    <tr>\n",
       "      <td>0</td>\n",
       "      <td>2009-09-15T14:47:22.234Z</td>\n",
       "      <td>27.517014</td>\n",
       "      <td>-98.770652</td>\n",
       "      <td>-90.109350</td>\n",
       "      <td>27.391210</td>\n",
       "      <td>173.71701</td>\n",
       "      <td>169.76760</td>\n",
       "      <td>103.96400</td>\n",
       "      <td>136.475694</td>\n",
       "      <td>264.210429</td>\n",
       "      <td>136475.6940</td>\n",
       "      <td>27517014.0</td>\n",
       "    </tr>\n",
       "    <tr>\n",
       "      <td>1</td>\n",
       "      <td>2009-09-15T14:47:25.366Z</td>\n",
       "      <td>27.487779</td>\n",
       "      <td>-99.720304</td>\n",
       "      <td>-101.274200</td>\n",
       "      <td>27.419543</td>\n",
       "      <td>179.09412</td>\n",
       "      <td>190.90685</td>\n",
       "      <td>107.68784</td>\n",
       "      <td>144.749556</td>\n",
       "      <td>283.049112</td>\n",
       "      <td>144749.5560</td>\n",
       "      <td>27487779.0</td>\n",
       "    </tr>\n",
       "    <tr>\n",
       "      <td>2</td>\n",
       "      <td>2009-09-15T14:47:28.498Z</td>\n",
       "      <td>26.086347</td>\n",
       "      <td>-110.451060</td>\n",
       "      <td>-94.334115</td>\n",
       "      <td>27.070611</td>\n",
       "      <td>176.58680</td>\n",
       "      <td>189.45682</td>\n",
       "      <td>112.66143</td>\n",
       "      <td>147.753781</td>\n",
       "      <td>282.434740</td>\n",
       "      <td>147753.7813</td>\n",
       "      <td>26086347.0</td>\n",
       "    </tr>\n",
       "    <tr>\n",
       "      <td>3</td>\n",
       "      <td>2009-09-15T14:47:31.630Z</td>\n",
       "      <td>27.224940</td>\n",
       "      <td>-108.173690</td>\n",
       "      <td>-107.334730</td>\n",
       "      <td>26.909578</td>\n",
       "      <td>184.29183</td>\n",
       "      <td>179.85542</td>\n",
       "      <td>109.38000</td>\n",
       "      <td>154.746298</td>\n",
       "      <td>279.777474</td>\n",
       "      <td>154746.2984</td>\n",
       "      <td>27224940.0</td>\n",
       "    </tr>\n",
       "    <tr>\n",
       "      <td>4</td>\n",
       "      <td>2009-09-15T14:47:34.762Z</td>\n",
       "      <td>25.531556</td>\n",
       "      <td>-98.017662</td>\n",
       "      <td>-100.446720</td>\n",
       "      <td>32.137935</td>\n",
       "      <td>171.74919</td>\n",
       "      <td>177.82575</td>\n",
       "      <td>113.30784</td>\n",
       "      <td>143.978653</td>\n",
       "      <td>271.953026</td>\n",
       "      <td>143978.6529</td>\n",
       "      <td>25531556.0</td>\n",
       "    </tr>\n",
       "    <tr>\n",
       "      <td>...</td>\n",
       "      <td>...</td>\n",
       "      <td>...</td>\n",
       "      <td>...</td>\n",
       "      <td>...</td>\n",
       "      <td>...</td>\n",
       "      <td>...</td>\n",
       "      <td>...</td>\n",
       "      <td>...</td>\n",
       "      <td>...</td>\n",
       "      <td>...</td>\n",
       "      <td>...</td>\n",
       "      <td>...</td>\n",
       "    </tr>\n",
       "    <tr>\n",
       "      <td>2537</td>\n",
       "      <td>2009-09-15T16:59:48.341Z</td>\n",
       "      <td>24.174725</td>\n",
       "      <td>-98.741369</td>\n",
       "      <td>-68.332531</td>\n",
       "      <td>16.942242</td>\n",
       "      <td>258.34062</td>\n",
       "      <td>255.17619</td>\n",
       "      <td>162.93551</td>\n",
       "      <td>121.269255</td>\n",
       "      <td>397.998423</td>\n",
       "      <td>121269.2554</td>\n",
       "      <td>24174725.0</td>\n",
       "    </tr>\n",
       "    <tr>\n",
       "      <td>2538</td>\n",
       "      <td>2009-09-15T16:59:51.473Z</td>\n",
       "      <td>23.270142</td>\n",
       "      <td>-105.973660</td>\n",
       "      <td>-78.366579</td>\n",
       "      <td>24.148666</td>\n",
       "      <td>238.00799</td>\n",
       "      <td>245.51047</td>\n",
       "      <td>159.24519</td>\n",
       "      <td>133.995878</td>\n",
       "      <td>377.203161</td>\n",
       "      <td>133995.8782</td>\n",
       "      <td>23270142.0</td>\n",
       "    </tr>\n",
       "    <tr>\n",
       "      <td>2539</td>\n",
       "      <td>2009-09-15T16:59:54.606Z</td>\n",
       "      <td>22.423923</td>\n",
       "      <td>-119.850840</td>\n",
       "      <td>-98.517489</td>\n",
       "      <td>20.910502</td>\n",
       "      <td>215.83205</td>\n",
       "      <td>220.35216</td>\n",
       "      <td>155.73659</td>\n",
       "      <td>156.547656</td>\n",
       "      <td>345.532102</td>\n",
       "      <td>156547.6559</td>\n",
       "      <td>22423923.0</td>\n",
       "    </tr>\n",
       "    <tr>\n",
       "      <td>2540</td>\n",
       "      <td>2009-09-15T16:59:57.738Z</td>\n",
       "      <td>21.811134</td>\n",
       "      <td>-121.346010</td>\n",
       "      <td>-85.402316</td>\n",
       "      <td>18.811049</td>\n",
       "      <td>214.11392</td>\n",
       "      <td>218.23950</td>\n",
       "      <td>154.40810</td>\n",
       "      <td>149.573612</td>\n",
       "      <td>342.512936</td>\n",
       "      <td>149573.6116</td>\n",
       "      <td>21811134.0</td>\n",
       "    </tr>\n",
       "    <tr>\n",
       "      <td>2541</td>\n",
       "      <td>2009-09-15T17:00:00.870Z</td>\n",
       "      <td>22.307139</td>\n",
       "      <td>-114.818250</td>\n",
       "      <td>-78.913742</td>\n",
       "      <td>21.955722</td>\n",
       "      <td>242.36941</td>\n",
       "      <td>229.96162</td>\n",
       "      <td>153.88054</td>\n",
       "      <td>141.041352</td>\n",
       "      <td>367.837598</td>\n",
       "      <td>141041.3519</td>\n",
       "      <td>22307139.0</td>\n",
       "    </tr>\n",
       "  </tbody>\n",
       "</table>\n",
       "<p>2542 rows × 12 columns</p>\n",
       "</div>"
      ],
      "text/plain": [
       "                            UT      N_ION      VX_ION      VY_ION         VZ  \\\n",
       "0     2009-09-15T14:47:22.234Z  27.517014  -98.770652  -90.109350  27.391210   \n",
       "1     2009-09-15T14:47:25.366Z  27.487779  -99.720304 -101.274200  27.419543   \n",
       "2     2009-09-15T14:47:28.498Z  26.086347 -110.451060  -94.334115  27.070611   \n",
       "3     2009-09-15T14:47:31.630Z  27.224940 -108.173690 -107.334730  26.909578   \n",
       "4     2009-09-15T14:47:34.762Z  25.531556  -98.017662 -100.446720  32.137935   \n",
       "...                        ...        ...         ...         ...        ...   \n",
       "2537  2009-09-15T16:59:48.341Z  24.174725  -98.741369  -68.332531  16.942242   \n",
       "2538  2009-09-15T16:59:51.473Z  23.270142 -105.973660  -78.366579  24.148666   \n",
       "2539  2009-09-15T16:59:54.606Z  22.423923 -119.850840  -98.517489  20.910502   \n",
       "2540  2009-09-15T16:59:57.738Z  21.811134 -121.346010  -85.402316  18.811049   \n",
       "2541  2009-09-15T17:00:00.870Z  22.307139 -114.818250  -78.913742  21.955722   \n",
       "\n",
       "         TX_ION     TY_ION     TZ_ION      VT_ION      TT_ION      VT_MSEC  \\\n",
       "0     173.71701  169.76760  103.96400  136.475694  264.210429  136475.6940   \n",
       "1     179.09412  190.90685  107.68784  144.749556  283.049112  144749.5560   \n",
       "2     176.58680  189.45682  112.66143  147.753781  282.434740  147753.7813   \n",
       "3     184.29183  179.85542  109.38000  154.746298  279.777474  154746.2984   \n",
       "4     171.74919  177.82575  113.30784  143.978653  271.953026  143978.6529   \n",
       "...         ...        ...        ...         ...         ...          ...   \n",
       "2537  258.34062  255.17619  162.93551  121.269255  397.998423  121269.2554   \n",
       "2538  238.00799  245.51047  159.24519  133.995878  377.203161  133995.8782   \n",
       "2539  215.83205  220.35216  155.73659  156.547656  345.532102  156547.6559   \n",
       "2540  214.11392  218.23950  154.40810  149.573612  342.512936  149573.6116   \n",
       "2541  242.36941  229.96162  153.88054  141.041352  367.837598  141041.3519   \n",
       "\n",
       "             N_M  \n",
       "0     27517014.0  \n",
       "1     27487779.0  \n",
       "2     26086347.0  \n",
       "3     27224940.0  \n",
       "4     25531556.0  \n",
       "...          ...  \n",
       "2537  24174725.0  \n",
       "2538  23270142.0  \n",
       "2539  22423923.0  \n",
       "2540  21811134.0  \n",
       "2541  22307139.0  \n",
       "\n",
       "[2542 rows x 12 columns]"
      ]
     },
     "execution_count": 5,
     "metadata": {},
     "output_type": "execute_result"
    }
   ],
   "source": [
    "mom"
   ]
  },
  {
   "cell_type": "markdown",
   "metadata": {},
   "source": [
    "## Calculating the Magnetopause Distance"
   ]
  },
  {
   "cell_type": "markdown",
   "metadata": {},
   "source": [
    "Since we assume that the data belong to the subsolar point, $cos^2(\\psi)$ is 1."
   ]
  },
  {
   "cell_type": "markdown",
   "metadata": {},
   "source": [
    "$R_{mp} = \\sqrt[6]{\\frac{B_0^2}{(\\mu_0*n*m_p*V_{sw}^2)}}$ $(R_e)$"
   ]
  },
  {
   "cell_type": "code",
   "execution_count": 6,
   "metadata": {},
   "outputs": [
    {
     "name": "stdout",
     "output_type": "stream",
     "text": [
      "1.2566370614359173e-06\n"
     ]
    }
   ],
   "source": [
    "mu = 4 * math.pi * 10**(-7) # The vacuum permeability, permeability of free space\n",
    "print(mu)"
   ]
  },
  {
   "cell_type": "code",
   "execution_count": 7,
   "metadata": {},
   "outputs": [
    {
     "name": "stdout",
     "output_type": "stream",
     "text": [
      "1.68e-27\n"
     ]
    }
   ],
   "source": [
    "mp = 1.68*10**(-27) # Proton mass\n",
    "print(mp)"
   ]
  },
  {
   "cell_type": "code",
   "execution_count": 8,
   "metadata": {},
   "outputs": [
    {
     "name": "stdout",
     "output_type": "stream",
     "text": [
      "3e-05\n"
     ]
    }
   ],
   "source": [
    "b0 = 0.3*10**(-4) # The horizontal component of earth's magnetic field \n",
    "print(b0)"
   ]
  },
  {
   "cell_type": "code",
   "execution_count": 9,
   "metadata": {},
   "outputs": [],
   "source": [
    "rmp = (b0**2/(mu*mp*mom['N_M']*mom['VT_MSEC']**2))**(1/float(6))"
   ]
  },
  {
   "cell_type": "code",
   "execution_count": 10,
   "metadata": {
    "scrolled": true
   },
   "outputs": [
    {
     "data": {
      "text/plain": [
       "0        9.697696\n",
       "1        9.510971\n",
       "2        9.528813\n",
       "3        9.316497\n",
       "4        9.645875\n",
       "          ...    \n",
       "2537    10.307264\n",
       "2538    10.033603\n",
       "2539     9.585610\n",
       "2540     9.777381\n",
       "2541     9.933396\n",
       "Length: 2542, dtype: float64"
      ]
     },
     "execution_count": 10,
     "metadata": {},
     "output_type": "execute_result"
    }
   ],
   "source": [
    "rmp"
   ]
  },
  {
   "cell_type": "markdown",
   "metadata": {},
   "source": [
    "## Calculating the Dynamic Pressure"
   ]
  },
  {
   "cell_type": "markdown",
   "metadata": {},
   "source": [
    "$P_{dyn} = nm_pV^2 $"
   ]
  },
  {
   "cell_type": "code",
   "execution_count": 11,
   "metadata": {},
   "outputs": [],
   "source": [
    "pdyn = (mom['N_M']*mp*mom['VT_MSEC']**2)*10**9 # P_dyn in nPa"
   ]
  },
  {
   "cell_type": "code",
   "execution_count": 12,
   "metadata": {},
   "outputs": [
    {
     "data": {
      "text/plain": [
       "0       0.861036\n",
       "1       0.967572\n",
       "2       0.956753\n",
       "3       1.095259\n",
       "4       0.889166\n",
       "          ...   \n",
       "2537    0.597272\n",
       "2538    0.701926\n",
       "2539    0.923239\n",
       "2540    0.819780\n",
       "2541    0.745497\n",
       "Length: 2542, dtype: float64"
      ]
     },
     "execution_count": 12,
     "metadata": {},
     "output_type": "execute_result"
    }
   ],
   "source": [
    "pdyn"
   ]
  },
  {
   "cell_type": "markdown",
   "metadata": {},
   "source": [
    "## Time Series Plot of Bz (nT)"
   ]
  },
  {
   "cell_type": "code",
   "execution_count": 13,
   "metadata": {
    "scrolled": true
   },
   "outputs": [
    {
     "data": {
      "text/plain": [
       "([<matplotlib.axis.XTick at 0x240a1dd3e88>,\n",
       "  <matplotlib.axis.XTick at 0x240a0bbd708>,\n",
       "  <matplotlib.axis.XTick at 0x240a1bcfd08>,\n",
       "  <matplotlib.axis.XTick at 0x240a2098188>,\n",
       "  <matplotlib.axis.XTick at 0x240a2098808>,\n",
       "  <matplotlib.axis.XTick at 0x240a209e108>,\n",
       "  <matplotlib.axis.XTick at 0x240a209e948>,\n",
       "  <matplotlib.axis.XTick at 0x240a20a22c8>,\n",
       "  <matplotlib.axis.XTick at 0x240a20a29c8>,\n",
       "  <matplotlib.axis.XTick at 0x240a2098ec8>,\n",
       "  <matplotlib.axis.XTick at 0x240a20a6248>,\n",
       "  <matplotlib.axis.XTick at 0x240a20a6c88>,\n",
       "  <matplotlib.axis.XTick at 0x240a20ab648>,\n",
       "  <matplotlib.axis.XTick at 0x240a20ae1c8>,\n",
       "  <matplotlib.axis.XTick at 0x240a20aed08>,\n",
       "  <matplotlib.axis.XTick at 0x240a20b2888>,\n",
       "  <matplotlib.axis.XTick at 0x240a20b5408>,\n",
       "  <matplotlib.axis.XTick at 0x240a20b90c8>,\n",
       "  <matplotlib.axis.XTick at 0x240a20b2788>,\n",
       "  <matplotlib.axis.XTick at 0x240a20b96c8>,\n",
       "  <matplotlib.axis.XTick at 0x240a20bc108>,\n",
       "  <matplotlib.axis.XTick at 0x240a20bc7c8>,\n",
       "  <matplotlib.axis.XTick at 0x240a20bf408>,\n",
       "  <matplotlib.axis.XTick at 0x240a20c30c8>,\n",
       "  <matplotlib.axis.XTick at 0x240a20c3ac8>,\n",
       "  <matplotlib.axis.XTick at 0x240a20c7648>],\n",
       " <a list of 26 Text xticklabel objects>)"
      ]
     },
     "execution_count": 13,
     "metadata": {},
     "output_type": "execute_result"
    },
    {
     "data": {
      "image/png": "[encoded data removed]",
      "text/plain": [
       "<Figure size 432x288 with 1 Axes>"
      ]
     },
     "metadata": {
      "needs_background": "light"
     },
     "output_type": "display_data"
    }
   ],
   "source": [
    "plt.plot(fgm['UT'][::10], fgm['BZ'][::10])\n",
    "\n",
    "plt.xticks(fgm['UT'][::100], rotation='vertical')\n"
   ]
  },
  {
   "cell_type": "markdown",
   "metadata": {},
   "source": [
    "## Time Series Plot of $P_{dyn}$ (nPa)"
   ]
  },
  {
   "cell_type": "code",
   "execution_count": 14,
   "metadata": {
    "scrolled": true
   },
   "outputs": [
    {
     "data": {
      "text/plain": [
       "([<matplotlib.axis.XTick at 0x240a2142288>,\n",
       "  <matplotlib.axis.XTick at 0x240a2140808>,\n",
       "  <matplotlib.axis.XTick at 0x240a20cbe08>,\n",
       "  <matplotlib.axis.XTick at 0x240a216f9c8>,\n",
       "  <matplotlib.axis.XTick at 0x240a2171108>,\n",
       "  <matplotlib.axis.XTick at 0x240a2171808>,\n",
       "  <matplotlib.axis.XTick at 0x240a2171fc8>,\n",
       "  <matplotlib.axis.XTick at 0x240a2176348>,\n",
       "  <matplotlib.axis.XTick at 0x240a2176d08>,\n",
       "  <matplotlib.axis.XTick at 0x240a217b688>,\n",
       "  <matplotlib.axis.XTick at 0x240a2180088>,\n",
       "  <matplotlib.axis.XTick at 0x240a2180908>,\n",
       "  <matplotlib.axis.XTick at 0x240a2185048>,\n",
       "  <matplotlib.axis.XTick at 0x240a2185e08>,\n",
       "  <matplotlib.axis.XTick at 0x240a2188988>,\n",
       "  <matplotlib.axis.XTick at 0x240a2180848>,\n",
       "  <matplotlib.axis.XTick at 0x240a2176408>,\n",
       "  <matplotlib.axis.XTick at 0x240a218c988>,\n",
       "  <matplotlib.axis.XTick at 0x240a218e388>,\n",
       "  <matplotlib.axis.XTick at 0x240a2192108>,\n",
       "  <matplotlib.axis.XTick at 0x240a2192a48>,\n",
       "  <matplotlib.axis.XTick at 0x240a21975c8>,\n",
       "  <matplotlib.axis.XTick at 0x240a219a1c8>,\n",
       "  <matplotlib.axis.XTick at 0x240a219ac88>,\n",
       "  <matplotlib.axis.XTick at 0x240a219e808>,\n",
       "  <matplotlib.axis.XTick at 0x240a21976c8>],\n",
       " <a list of 26 Text xticklabel objects>)"
      ]
     },
     "execution_count": 14,
     "metadata": {},
     "output_type": "execute_result"
    },
    {
     "data": {
      "image/png": "[encoded data removed]",
      "text/plain": [
       "<Figure size 432x288 with 1 Axes>"
      ]
     },
     "metadata": {
      "needs_background": "light"
     },
     "output_type": "display_data"
    }
   ],
   "source": [
    "plt.plot(mom['UT'][::10], pdyn[::10])\n",
    "\n",
    "plt.xticks(mom['UT'][::100], rotation='vertical')\n"
   ]
  },
  {
   "cell_type": "markdown",
   "metadata": {},
   "source": [
    "## Time Series Plot of $R_{mp}$ (Re)"
   ]
  },
  {
   "cell_type": "code",
   "execution_count": 15,
   "metadata": {
    "scrolled": false
   },
   "outputs": [
    {
     "data": {
      "text/plain": [
       "([<matplotlib.axis.XTick at 0x240a21f0088>,\n",
       "  <matplotlib.axis.XTick at 0x240a21ef748>,\n",
       "  <matplotlib.axis.XTick at 0x240a21ef3c8>,\n",
       "  <matplotlib.axis.XTick at 0x240a2210748>,\n",
       "  <matplotlib.axis.XTick at 0x240a221b148>,\n",
       "  <matplotlib.axis.XTick at 0x240a221b588>,\n",
       "  <matplotlib.axis.XTick at 0x240a221b4c8>,\n",
       "  <matplotlib.axis.XTick at 0x240a221f188>,\n",
       "  <matplotlib.axis.XTick at 0x240a221f8c8>,\n",
       "  <matplotlib.axis.XTick at 0x240a22240c8>,\n",
       "  <matplotlib.axis.XTick at 0x240a2224848>,\n",
       "  <matplotlib.axis.XTick at 0x240a2228048>,\n",
       "  <matplotlib.axis.XTick at 0x240a2228b88>,\n",
       "  <matplotlib.axis.XTick at 0x240a222d708>,\n",
       "  <matplotlib.axis.XTick at 0x240a2230288>,\n",
       "  <matplotlib.axis.XTick at 0x240a2230dc8>,\n",
       "  <matplotlib.axis.XTick at 0x240a222dd88>,\n",
       "  <matplotlib.axis.XTick at 0x240a2233388>,\n",
       "  <matplotlib.axis.XTick at 0x240a2233f08>,\n",
       "  <matplotlib.axis.XTick at 0x240a22376c8>,\n",
       "  <matplotlib.axis.XTick at 0x240a223a308>,\n",
       "  <matplotlib.axis.XTick at 0x240a223adc8>,\n",
       "  <matplotlib.axis.XTick at 0x240a223e948>,\n",
       "  <matplotlib.axis.XTick at 0x240a22434c8>,\n",
       "  <matplotlib.axis.XTick at 0x240a22460c8>,\n",
       "  <matplotlib.axis.XTick at 0x240a223a188>],\n",
       " <a list of 26 Text xticklabel objects>)"
      ]
     },
     "execution_count": 15,
     "metadata": {},
     "output_type": "execute_result"
    },
    {
     "data": {
      "image/png": "[encoded data removed]",
      "text/plain": [
       "<Figure size 432x288 with 1 Axes>"
      ]
     },
     "metadata": {
      "needs_background": "light"
     },
     "output_type": "display_data"
    }
   ],
   "source": [
    "plt.plot(mom['UT'][::10], rmp[::10])\n",
    "\n",
    "plt.xticks(mom['UT'][::100], rotation='vertical')"
   ]
  },
  {
   "cell_type": "markdown",
   "metadata": {},
   "source": [
    "## Scatter Plot of $P_{dyn}$ (nPa) vs $R_{mp}$ (Re)"
   ]
  },
  {
   "cell_type": "code",
   "execution_count": 16,
   "metadata": {
    "scrolled": false
   },
   "outputs": [
    {
     "data": {
      "text/plain": [
       "[<matplotlib.lines.Line2D at 0x240a22b0948>]"
      ]
     },
     "execution_count": 16,
     "metadata": {},
     "output_type": "execute_result"
    },
    {
     "data": {
      "image/png": "[encoded data removed]",
      "text/plain": [
       "<Figure size 432x288 with 1 Axes>"
      ]
     },
     "metadata": {
      "needs_background": "light"
     },
     "output_type": "display_data"
    }
   ],
   "source": [
    "plt.plot(pdyn[::10], rmp[::10],'o')"
   ]
  },
  {
   "cell_type": "markdown",
   "metadata": {},
   "source": [
    "## Scatter Plot of $B_z$ (nT) vs $R_{mp}$ (Re)"
   ]
  },
  {
   "cell_type": "code",
   "execution_count": 17,
   "metadata": {},
   "outputs": [
    {
     "data": {
      "text/plain": [
       "[<matplotlib.lines.Line2D at 0x240a2383a88>]"
      ]
     },
     "execution_count": 17,
     "metadata": {},
     "output_type": "execute_result"
    },
    {
     "data": {
      "image/png": "[encoded data removed]",
      "text/plain": [
       "<Figure size 432x288 with 1 Axes>"
      ]
     },
     "metadata": {
      "needs_background": "light"
     },
     "output_type": "display_data"
    }
   ],
   "source": [
    "plt.plot(fgm['BZ'][::10], rmp[::10],'o')"
   ]
  },
  {
   "cell_type": "markdown",
   "metadata": {},
   "source": [
    "## Calculating the Auroral Latitude $\\lambda$"
   ]
  },
  {
   "cell_type": "markdown",
   "metadata": {},
   "source": [
    "$cos(\\lambda)=\\frac{1}{\\sqrt{L}}$"
   ]
  },
  {
   "cell_type": "markdown",
   "metadata": {},
   "source": [
    "$L=int(R_{mp})$"
   ]
  },
  {
   "cell_type": "code",
   "execution_count": 18,
   "metadata": {},
   "outputs": [
    {
     "data": {
      "text/plain": [
       "0        9.697696\n",
       "1        9.510971\n",
       "2        9.528813\n",
       "3        9.316497\n",
       "4        9.645875\n",
       "          ...    \n",
       "2537    10.307264\n",
       "2538    10.033603\n",
       "2539     9.585610\n",
       "2540     9.777381\n",
       "2541     9.933396\n",
       "Length: 2542, dtype: float64"
      ]
     },
     "execution_count": 18,
     "metadata": {},
     "output_type": "execute_result"
    }
   ],
   "source": [
    "rmp = rmp.replace([np.nan, np.inf, -np.inf], 9) # To get rid of NaN and inf data, converting them to 9 since it is the avarage\n",
    "rmp"
   ]
  },
  {
   "cell_type": "code",
   "execution_count": 19,
   "metadata": {
    "scrolled": true
   },
   "outputs": [
    {
     "data": {
      "text/plain": [
       "0       71.565051\n",
       "1       71.565051\n",
       "2       71.565051\n",
       "3       70.528779\n",
       "4       71.565051\n",
       "          ...    \n",
       "2537    71.565051\n",
       "2538    71.565051\n",
       "2539    71.565051\n",
       "2540    71.565051\n",
       "2541    71.565051\n",
       "Length: 2542, dtype: float64"
      ]
     },
     "execution_count": 19,
     "metadata": {},
     "output_type": "execute_result"
    }
   ],
   "source": [
    "# math functions does not work with series so numpy is used\n",
    "# with .astype(int), all rmp converted to int and 180/pi for converting radian to degree\n",
    "al = np.arccos(1/(rmp.round(0).astype(int))**(1/2))*(180/math.pi) #round(0) for rounding 9.6 to 10\n",
    "\n",
    "al"
   ]
  },
  {
   "cell_type": "markdown",
   "metadata": {},
   "source": [
    "## Scatter Plot of Auroral Latitude vs $R_{mp}$"
   ]
  },
  {
   "cell_type": "code",
   "execution_count": 20,
   "metadata": {},
   "outputs": [
    {
     "data": {
      "text/plain": [
       "[<matplotlib.lines.Line2D at 0x240a33ca648>]"
      ]
     },
     "execution_count": 20,
     "metadata": {},
     "output_type": "execute_result"
    },
    {
     "data": {
      "image/png": "[encoded data removed]",
      "text/plain": [
       "<Figure size 432x288 with 1 Axes>"
      ]
     },
     "metadata": {
      "needs_background": "light"
     },
     "output_type": "display_data"
    }
   ],
   "source": [
    "plt.plot(rmp[::10], al[::10],'o')"
   ]
  },
  {
   "cell_type": "markdown",
   "metadata": {},
   "source": [
    "## Scatter Plot of $P_{dyn}$ (nPa) vs Auroral Latitude"
   ]
  },
  {
   "cell_type": "code",
   "execution_count": 21,
   "metadata": {
    "scrolled": false
   },
   "outputs": [
    {
     "data": {
      "text/plain": [
       "[<matplotlib.lines.Line2D at 0x240a3435e88>]"
      ]
     },
     "execution_count": 21,
     "metadata": {},
     "output_type": "execute_result"
    },
    {
     "data": {
      "image/png": "[encoded data removed]",
      "text/plain": [
       "<Figure size 432x288 with 1 Axes>"
      ]
     },
     "metadata": {
      "needs_background": "light"
     },
     "output_type": "display_data"
    }
   ],
   "source": [
    "plt.plot(pdyn[::10], al[::10],'o')"
   ]
  },
  {
   "cell_type": "markdown",
   "metadata": {},
   "source": [
    "## Statistic Table"
   ]
  },
  {
   "cell_type": "markdown",
   "metadata": {},
   "source": [
    "#### Bz"
   ]
  },
  {
   "cell_type": "code",
   "execution_count": 28,
   "metadata": {
    "scrolled": true
   },
   "outputs": [
    {
     "data": {
      "text/plain": [
       "mean     -1.180173e+27\n",
       "median    1.867130e+01\n",
       "max       3.614360e+01\n",
       "min      -1.000000e+30\n",
       "std       3.434013e+28\n",
       "Name: BZ, dtype: float64"
      ]
     },
     "execution_count": 28,
     "metadata": {},
     "output_type": "execute_result"
    }
   ],
   "source": [
    "fgm['BZ'].agg(['mean', 'median', 'max', 'min', 'std']) ## Problem !!!!!!!!!!!!!!!!!! error data ruin the calculation"
   ]
  },
  {
   "cell_type": "markdown",
   "metadata": {},
   "source": [
    "#### Pdyn"
   ]
  },
  {
   "cell_type": "code",
   "execution_count": 27,
   "metadata": {
    "scrolled": false
   },
   "outputs": [
    {
     "data": {
      "text/plain": [
       "mean      0.806091\n",
       "median    0.768505\n",
       "max       3.167741\n",
       "min       0.177174\n",
       "std       0.316562\n",
       "dtype: float64"
      ]
     },
     "execution_count": 27,
     "metadata": {},
     "output_type": "execute_result"
    }
   ],
   "source": [
    "pdyn.agg(['mean', 'median', 'max', 'min', 'std'])"
   ]
  },
  {
   "cell_type": "markdown",
   "metadata": {},
   "source": [
    "#### Rmp"
   ]
  },
  {
   "cell_type": "code",
   "execution_count": 29,
   "metadata": {},
   "outputs": [
    {
     "data": {
      "text/plain": [
       "mean       9.949871\n",
       "median     9.883139\n",
       "max       12.621340\n",
       "min        7.805136\n",
       "std        0.656513\n",
       "dtype: float64"
      ]
     },
     "execution_count": 29,
     "metadata": {},
     "output_type": "execute_result"
    }
   ],
   "source": [
    "rmp.agg(['mean', 'median', 'max', 'min', 'std'])"
   ]
  },
  {
   "cell_type": "markdown",
   "metadata": {},
   "source": [
    "#### $\\lambda$"
   ]
  },
  {
   "cell_type": "code",
   "execution_count": 30,
   "metadata": {},
   "outputs": [
    {
     "data": {
      "text/plain": [
       "mean      71.463809\n",
       "median    71.565051\n",
       "max       73.897886\n",
       "min       69.295189\n",
       "std        0.703261\n",
       "dtype: float64"
      ]
     },
     "execution_count": 30,
     "metadata": {},
     "output_type": "execute_result"
    }
   ],
   "source": [
    "al.agg(['mean', 'median', 'max', 'min', 'std'])"
   ]
  }
 ],
 "metadata": {
  "kernelspec": {
   "display_name": "Python 3",
   "language": "python",
   "name": "python3"
  },
  "language_info": {
   "codemirror_mode": {
    "name": "ipython",
    "version": 3
   },
   "file_extension": ".py",
   "mimetype": "text/x-python",
   "name": "python",
   "nbconvert_exporter": "python",
   "pygments_lexer": "ipython3",
   "version": "3.7.4"
  }
 },
 "nbformat": 4,
 "nbformat_minor": 2
}
